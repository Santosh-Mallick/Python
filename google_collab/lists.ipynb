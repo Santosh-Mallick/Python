{
  "nbformat": 4,
  "nbformat_minor": 0,
  "metadata": {
    "colab": {
      "provenance": [],
      "authorship_tag": "ABX9TyPRz0HCb2bUdt+dCRMlLsHo"
    },
    "kernelspec": {
      "name": "python3",
      "display_name": "Python 3"
    },
    "language_info": {
      "name": "python"
    }
  },
  "cells": [
    {
      "cell_type": "code",
      "execution_count": null,
      "metadata": {
        "colab": {
          "base_uri": "https://localhost:8080/"
        },
        "id": "4KNoJF3OyxPg",
        "outputId": "a9090b59-9557-4291-bae1-120042f13142"
      },
      "outputs": [
        {
          "output_type": "stream",
          "name": "stdout",
          "text": [
            "<class 'list'>\n"
          ]
        }
      ],
      "source": [
        "list(range(10))\n",
        "print(list)"
      ]
    },
    {
      "cell_type": "code",
      "source": [
        "nested_list = [1, [2, 'three'], 4.5]\n",
        "second_element = nested_list[1]\n",
        "print(second_element[1])\n",
        "nested_element = nested_list[1][0]\n",
        "print(nested_element)"
      ],
      "metadata": {
        "colab": {
          "base_uri": "https://localhost:8080/"
        },
        "id": "dAVNg8VH48CC",
        "outputId": "727716c6-93b3-40be-c938-8d04425fb4bb"
      },
      "execution_count": null,
      "outputs": [
        {
          "output_type": "stream",
          "name": "stdout",
          "text": [
            "three\n",
            "2\n"
          ]
        }
      ]
    },
    {
      "cell_type": "markdown",
      "source": [
        "List Comprehension"
      ],
      "metadata": {
        "id": "OitZHRc_7I81"
      }
    },
    {
      "cell_type": "code",
      "source": [
        "squares = [x**2 for x in range(10)]\n",
        "print(squares)"
      ],
      "metadata": {
        "colab": {
          "base_uri": "https://localhost:8080/"
        },
        "id": "XZ2YLsoO7F6g",
        "outputId": "9e1e4b24-750d-4c1d-e2f5-3cb6ec859400"
      },
      "execution_count": null,
      "outputs": [
        {
          "output_type": "stream",
          "name": "stdout",
          "text": [
            "[0, 1, 4, 9, 16, 25, 36, 49, 64, 81]\n"
          ]
        }
      ]
    },
    {
      "cell_type": "code",
      "source": [
        "even_squares = [x**2 for x in range(10) if x % 2 == 0]\n",
        "print(even_squares)"
      ],
      "metadata": {
        "colab": {
          "base_uri": "https://localhost:8080/"
        },
        "id": "PZCPhouVK-a_",
        "outputId": "6a41cd58-4005-4e07-a6f5-d3620944e5e7"
      },
      "execution_count": 1,
      "outputs": [
        {
          "output_type": "stream",
          "name": "stdout",
          "text": [
            "[0, 4, 16, 36, 64]\n"
          ]
        }
      ]
    },
    {
      "cell_type": "markdown",
      "source": [
        "Nested List Comprehensions"
      ],
      "metadata": {
        "id": "BCBV98K4LXZG"
      }
    },
    {
      "cell_type": "code",
      "source": [
        "nested_list = [[1, 2, 3], [4, 5, 6], [7, 8, 9]]\n",
        "flat_list = [item for sublist in nested_list for item in sublist]\n",
        "print(flat_list)"
      ],
      "metadata": {
        "id": "sPGuCBTpLYA9",
        "outputId": "71429dae-1f55-49ab-9329-b932b79ab63f",
        "colab": {
          "base_uri": "https://localhost:8080/"
        }
      },
      "execution_count": 2,
      "outputs": [
        {
          "output_type": "stream",
          "name": "stdout",
          "text": [
            "[1, 2, 3, 4, 5, 6, 7, 8, 9]\n"
          ]
        }
      ]
    },
    {
      "cell_type": "code",
      "source": [
        "numbers = [x for x in range(20) if x % 2 == 0 if x % 3 == 0]\n",
        "print(numbers)  # Output: [0, 6, 12, 18]\n"
      ],
      "metadata": {
        "id": "lqcVcolXLcPF",
        "outputId": "57215154-6817-49a8-d736-1e42d8b3e971",
        "colab": {
          "base_uri": "https://localhost:8080/"
        }
      },
      "execution_count": 3,
      "outputs": [
        {
          "output_type": "stream",
          "name": "stdout",
          "text": [
            "[0, 6, 12, 18]\n"
          ]
        }
      ]
    },
    {
      "cell_type": "markdown",
      "source": [
        "Using Functions in List Comprehension"
      ],
      "metadata": {
        "id": "rFoPQDYULhp9"
      }
    },
    {
      "cell_type": "code",
      "source": [
        "def double(x):\n",
        "    return x * 2\n",
        "\n",
        "doubled_numbers = [double(x) for x in range(10)]\n",
        "print(doubled_numbers)\n"
      ],
      "metadata": {
        "id": "jqX8KjMxLrQD",
        "outputId": "5e2b9dce-d48f-44a8-bdc4-6dae9e5d5121",
        "colab": {
          "base_uri": "https://localhost:8080/"
        }
      },
      "execution_count": 5,
      "outputs": [
        {
          "output_type": "stream",
          "name": "stdout",
          "text": [
            "[0, 2, 4, 6, 8, 10, 12, 14, 16, 18]\n"
          ]
        }
      ]
    },
    {
      "cell_type": "markdown",
      "source": [
        "Advanced Examples"
      ],
      "metadata": {
        "id": "iOWI3AN2LyBq"
      }
    },
    {
      "cell_type": "code",
      "source": [
        "#Generating a Matrix\n",
        "matrix = [[j for j in range(5)] for i in range(3)]\n",
        "print(matrix)"
      ],
      "metadata": {
        "id": "25l7ug4rLy7R",
        "outputId": "5e7857f4-1d68-4db8-9861-cfc72f8baeb6",
        "colab": {
          "base_uri": "https://localhost:8080/"
        }
      },
      "execution_count": 8,
      "outputs": [
        {
          "output_type": "stream",
          "name": "stdout",
          "text": [
            "[[0, 1, 2, 3, 4], [0, 1, 2, 3, 4], [0, 1, 2, 3, 4]]\n"
          ]
        }
      ]
    },
    {
      "cell_type": "code",
      "source": [
        "#Transposing a Matrix\n",
        "matrix = [[1, 2, 3], [4, 5, 6], [7, 8, 9]]\n",
        "transposed = [[row[i] for row in matrix] for i in range(len(matrix[0]))]\n",
        "print(transposed)"
      ],
      "metadata": {
        "id": "laiZ-tDHMG2Z",
        "outputId": "92c5e6e6-f1ba-4d2c-e271-129c4d21ffe8",
        "colab": {
          "base_uri": "https://localhost:8080/"
        }
      },
      "execution_count": 9,
      "outputs": [
        {
          "output_type": "stream",
          "name": "stdout",
          "text": [
            "[[1, 4, 7], [2, 5, 8], [3, 6, 9]]\n"
          ]
        }
      ]
    },
    {
      "cell_type": "code",
      "source": [
        "#Creating a Dictionary\n",
        "squares_dict = {x: x**2 for x in range(10)}\n",
        "print(squares_dict)"
      ],
      "metadata": {
        "id": "uJVRmfDlMQwv",
        "outputId": "0c2cdad6-5d01-4978-ddaf-bdbaf485ffcd",
        "colab": {
          "base_uri": "https://localhost:8080/"
        }
      },
      "execution_count": 10,
      "outputs": [
        {
          "output_type": "stream",
          "name": "stdout",
          "text": [
            "{0: 0, 1: 1, 2: 4, 3: 9, 4: 16, 5: 25, 6: 36, 7: 49, 8: 64, 9: 81}\n"
          ]
        }
      ]
    },
    {
      "cell_type": "markdown",
      "source": [
        "Conditional Expression"
      ],
      "metadata": {
        "id": "_K7iyxVjMa7y"
      }
    },
    {
      "cell_type": "code",
      "source": [
        "numbers = [x if x % 2 == 0 else -x for x in range(10)]\n",
        "print(numbers)"
      ],
      "metadata": {
        "id": "_es4ckgcMb8k"
      },
      "execution_count": null,
      "outputs": []
    },
    {
      "cell_type": "markdown",
      "source": [
        "Combining with Other Comprehensions"
      ],
      "metadata": {
        "id": "-0eb1PC-Me7Y"
      }
    },
    {
      "cell_type": "code",
      "source": [
        "unique_squares = {x**2 for x in range(10)}\n",
        "print(unique_squares)\n",
        "\n",
        "square_generator = (x**2 for x in range(10))\n",
        "print(list(square_generator))"
      ],
      "metadata": {
        "id": "C9mdlzzNMhs_",
        "outputId": "23d78d32-e820-4b61-a208-4d3a7928acd9",
        "colab": {
          "base_uri": "https://localhost:8080/"
        }
      },
      "execution_count": 11,
      "outputs": [
        {
          "output_type": "stream",
          "name": "stdout",
          "text": [
            "{0, 1, 64, 4, 36, 9, 16, 49, 81, 25}\n",
            "[0, 1, 4, 9, 16, 25, 36, 49, 64, 81]\n"
          ]
        }
      ]
    }
  ]
}