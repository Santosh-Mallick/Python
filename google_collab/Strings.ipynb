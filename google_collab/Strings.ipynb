{
  "nbformat": 4,
  "nbformat_minor": 0,
  "metadata": {
    "colab": {
      "provenance": [],
      "authorship_tag": "ABX9TyMuAy9MDVQ49Pfq3pg7syqu"
    },
    "kernelspec": {
      "name": "python3",
      "display_name": "Python 3"
    },
    "language_info": {
      "name": "python"
    }
  },
  "cells": [
    {
      "cell_type": "markdown",
      "source": [
        "1. Write a program that asks for the\n",
        "user\n",
        "'\n",
        "s name and then prints a\n",
        "greeting message including their\n",
        "name."
      ],
      "metadata": {
        "id": "Ds6edZaO641a"
      }
    },
    {
      "cell_type": "code",
      "execution_count": null,
      "metadata": {
        "colab": {
          "base_uri": "https://localhost:8080/"
        },
        "id": "w-YdzE5b7pxA",
        "outputId": "6dd251ac-9f22-457a-f697-dd574a792e14"
      },
      "outputs": [
        {
          "output_type": "stream",
          "name": "stdout",
          "text": [
            "Name : Santosh mallick\n",
            "Welcome  Santosh mallick\n"
          ]
        }
      ],
      "source": [
        "# Answer 1\n",
        "\n",
        "print(\"Welcome \",input(\"Name : \"))"
      ]
    },
    {
      "cell_type": "markdown",
      "source": [
        "2. Write a program that takes two\n",
        "numbers as input and prints their\n",
        "sum."
      ],
      "metadata": {
        "id": "Ss3rbQ-y69RL"
      }
    },
    {
      "cell_type": "code",
      "source": [
        "# Answer 2\n",
        "\n",
        "a = int(input(\"Input a Number: \"))\n",
        "b = int(input(\"Input Second Number: \"))\n",
        "c = a+b\n",
        "sum = \"sum of {} and {} = {}\"\n",
        "print(sum.format(a,b,c))"
      ],
      "metadata": {
        "colab": {
          "base_uri": "https://localhost:8080/"
        },
        "id": "Pq968e1E9BeA",
        "outputId": "988e31f4-d2b3-4dd8-ee4d-d4612cac150a"
      },
      "execution_count": null,
      "outputs": [
        {
          "output_type": "stream",
          "name": "stdout",
          "text": [
            "Input a Number: 360\n",
            "Input Second Number: 240\n",
            "sum of 360 and 240 = 600\n"
          ]
        }
      ]
    },
    {
      "cell_type": "markdown",
      "source": [
        "3. Write a program that takes a string\n",
        "input and prints it in reverse."
      ],
      "metadata": {
        "id": "qvANjtDR7BZE"
      }
    },
    {
      "cell_type": "code",
      "source": [
        "# Answer 3\n",
        "\n",
        "a = str(input(\"Input a String: \"))\n",
        "a = a[::-1]\n",
        "print(a)"
      ],
      "metadata": {
        "colab": {
          "base_uri": "https://localhost:8080/"
        },
        "id": "yGI3P2knZKwc",
        "outputId": "30dd8736-205b-49d8-ebf1-8ee0a802f870"
      },
      "execution_count": null,
      "outputs": [
        {
          "output_type": "stream",
          "name": "stdout",
          "text": [
            "Input a String: santosh\n",
            "hsotnas\n"
          ]
        }
      ]
    },
    {
      "cell_type": "markdown",
      "source": [
        "4. Write a program that takes a\n",
        "string and prints it in uppercase.\n",
        "5. Write a program that takes a\n",
        "string and prints it in lowercase.\n",
        "6. Write a program that takes a\n",
        "string and prints the number of\n",
        "characters in it."
      ],
      "metadata": {
        "id": "IJ4M5-tH7Et7"
      }
    },
    {
      "cell_type": "code",
      "source": [
        "# Answer 4,5,6\n",
        "\n",
        "a = str(input(\"Input a String: \"))\n",
        "print(a.upper())\n",
        "print(a.lower())\n",
        "print(\"Length Of String : \",len(a))"
      ],
      "metadata": {
        "colab": {
          "base_uri": "https://localhost:8080/"
        },
        "id": "2XaNquJnZmq6",
        "outputId": "2634205c-efd2-4f25-f20e-a48bc4311e49"
      },
      "execution_count": null,
      "outputs": [
        {
          "output_type": "stream",
          "name": "stdout",
          "text": [
            "Input a String: Santosh\n",
            "SANTOSH\n",
            "santosh\n",
            "Length Of String :  7\n"
          ]
        }
      ]
    },
    {
      "cell_type": "markdown",
      "source": [
        "7. Write a program that takes a string\n",
        "and prints the first character of the\n",
        "string.\n",
        "8. Write a program that takes a\n",
        "string and prints the last character of\n",
        "the string.\n",
        "9. Write a program that takes a\n",
        "string and prints the string with the\n",
        "first and last character swapped."
      ],
      "metadata": {
        "id": "qAzXwEbE7Hha"
      }
    },
    {
      "cell_type": "code",
      "source": [
        "# Answer 7,8,9\n",
        "\n",
        "a = str(input(\"Input a String: \"))\n",
        "print(\"First Word\",a[:1])\n",
        "print(\"Last Word\",a[-1:])\n",
        "print(\"Final Word: \",a[-1] + a[1:-1] + a[0])"
      ],
      "metadata": {
        "colab": {
          "base_uri": "https://localhost:8080/"
        },
        "id": "f3qRNAE6f13j",
        "outputId": "ed396fac-4302-46a6-f956-b858d2aa5ebf"
      },
      "execution_count": null,
      "outputs": [
        {
          "output_type": "stream",
          "name": "stdout",
          "text": [
            "Input a String: santosh mallick\n",
            "First Word s\n",
            "Last Word k\n",
            "Final Word:  kantosh mallics\n"
          ]
        }
      ]
    },
    {
      "cell_type": "markdown",
      "source": [
        "10. Write a program that takes a\n",
        "string and a character as input and\n",
        "prints the number of times the\n",
        "character appears in the string."
      ],
      "metadata": {
        "id": "a0gN-8XD7NZF"
      }
    },
    {
      "cell_type": "code",
      "source": [
        "# Answer 10\n",
        "\n",
        "a = str(input(\"Input a String: \"))\n",
        "b = str(input(\"Enter a single character \")[0])\n",
        "print(\"Occurence of \",b,\" in the string \",a,\" is :\",a.count(b))"
      ],
      "metadata": {
        "colab": {
          "base_uri": "https://localhost:8080/"
        },
        "id": "iaehTDkQmuzE",
        "outputId": "94d87054-bc33-4332-c0fc-64a493d60338"
      },
      "execution_count": null,
      "outputs": [
        {
          "output_type": "stream",
          "name": "stdout",
          "text": [
            "Input a String: Hello World\n",
            "Enter a single character o\n",
            "Occurence of  o  in the string  Hello World  is : 2\n"
          ]
        }
      ]
    },
    {
      "cell_type": "markdown",
      "source": [
        "11. Write a program that takes a\n",
        "string and prints whether it contains\n",
        "the letter\n",
        "'\n",
        "a\n",
        "'\n",
        "."
      ],
      "metadata": {
        "id": "NRxOPJ2L7Z1g"
      }
    },
    {
      "cell_type": "code",
      "source": [
        "# Answer 11\n",
        "\n",
        "a = str(input(\"Input a String: \"))\n",
        "b = a.count(\"a\")\n",
        "if(b==0):\n",
        "    print(\"Not Found\")\n",
        "else:\n",
        "    print(\"'A'Found at position\",(a.find(\"a\")+1))"
      ],
      "metadata": {
        "colab": {
          "base_uri": "https://localhost:8080/"
        },
        "id": "nYnFdUYgMcuo",
        "outputId": "a8327b2a-4e14-4742-b6ba-4f1ff7fb166b"
      },
      "execution_count": null,
      "outputs": [
        {
          "output_type": "stream",
          "name": "stdout",
          "text": [
            "Input a String: santosh\n",
            "'A'Found at position 2\n"
          ]
        }
      ]
    },
    {
      "cell_type": "markdown",
      "source": [
        "12. Write a program that takes an\n",
        "integer and prints whether it is even\n",
        "or odd."
      ],
      "metadata": {
        "id": "XUDeIhjw7j6H"
      }
    },
    {
      "cell_type": "code",
      "source": [
        "# Answer 12\n",
        "\n",
        "a = int(input(\"Input a Number: \"))\n",
        "if(a%2==0):\n",
        "  print(\"Even\")\n",
        "else:\n",
        "  print(\"Odd\")\n"
      ],
      "metadata": {
        "colab": {
          "base_uri": "https://localhost:8080/"
        },
        "id": "FIRoXLEHN_Xf",
        "outputId": "77238b8e-1209-43cc-8c9d-3cbe8a22f79c"
      },
      "execution_count": null,
      "outputs": [
        {
          "output_type": "stream",
          "name": "stdout",
          "text": [
            "Input a Number: 2783\n",
            "Odd\n"
          ]
        }
      ]
    },
    {
      "cell_type": "markdown",
      "source": [
        "13. Write a program that takes a\n",
        "string and prints each character of\n",
        "the string on a new line."
      ],
      "metadata": {
        "id": "2z73Jk6V6xMY"
      }
    },
    {
      "cell_type": "code",
      "source": [
        "# Answer 13\n",
        "\n",
        "a = str(input(\"Input a String: \"))\n",
        "for i in a:\n",
        "    print(i)"
      ],
      "metadata": {
        "colab": {
          "base_uri": "https://localhost:8080/"
        },
        "id": "rdTHC3uqOcRG",
        "outputId": "b9715851-2c93-4ded-f5be-d2482aeeed46"
      },
      "execution_count": null,
      "outputs": [
        {
          "output_type": "stream",
          "name": "stdout",
          "text": [
            "Input a String: Hello World\n",
            "H\n",
            "e\n",
            "l\n",
            "l\n",
            "o\n",
            " \n",
            "W\n",
            "o\n",
            "r\n",
            "l\n",
            "d\n"
          ]
        }
      ]
    },
    {
      "cell_type": "markdown",
      "source": [
        "14. Write a program that takes a\n",
        "string and prints the string without\n",
        "any vowels."
      ],
      "metadata": {
        "id": "dzRCPfjm7sUk"
      }
    },
    {
      "cell_type": "code",
      "source": [
        "# Answer 14\n",
        "\n",
        "a = str(input(\"Input a String: \"))\n",
        "vowels = \"AEIOUaeiou\"\n",
        "for i in a:\n",
        "    if i not in vowels:\n",
        "        print(i, end=\"\")\n"
      ],
      "metadata": {
        "colab": {
          "base_uri": "https://localhost:8080/"
        },
        "id": "WPX6ZH88clDF",
        "outputId": "d3cb3cb2-10ab-4c14-ef37-4eaf52ad2601"
      },
      "execution_count": null,
      "outputs": [
        {
          "output_type": "stream",
          "name": "stdout",
          "text": [
            "Input a String: santosh\n",
            "sntsh"
          ]
        }
      ]
    },
    {
      "cell_type": "markdown",
      "source": [
        "15. Write a program that takes a\n",
        "string and prints the string without\n",
        "any spaces."
      ],
      "metadata": {
        "id": "I3T6z9KY7vo5"
      }
    },
    {
      "cell_type": "code",
      "source": [
        "# Answer 15\n",
        "\n",
        "a = str(input(\"Input a String: \"))\n",
        "for i in a:\n",
        "    if i != \" \":\n",
        "        print(i, end=\"\")"
      ],
      "metadata": {
        "id": "DHnLR75avMKH",
        "colab": {
          "base_uri": "https://localhost:8080/"
        },
        "outputId": "b67396b8-e3bf-475b-c36d-c2a6e3a53acd"
      },
      "execution_count": null,
      "outputs": [
        {
          "output_type": "stream",
          "name": "stdout",
          "text": [
            "Input a String: hello world\n",
            "helloworld"
          ]
        }
      ]
    },
    {
      "cell_type": "markdown",
      "source": [
        "16. Write a program that takes a\n",
        "string and prints the string with each\n",
        "word capitalized."
      ],
      "metadata": {
        "id": "TA0L9BTt7yhQ"
      }
    },
    {
      "cell_type": "code",
      "source": [
        "# Answer 16\n",
        "\n",
        "a = str(input(\"Input a String: \"))\n",
        "print(a.upper())"
      ],
      "metadata": {
        "colab": {
          "base_uri": "https://localhost:8080/"
        },
        "id": "S5vgyPJPxQnv",
        "outputId": "4055cf35-e3ce-49ad-8af2-eaa459c15c08"
      },
      "execution_count": null,
      "outputs": [
        {
          "output_type": "stream",
          "name": "stdout",
          "text": [
            "Input a String: santosh\n",
            "SANTOSH\n"
          ]
        }
      ]
    },
    {
      "cell_type": "markdown",
      "source": [
        "17. Write a program that takes a\n",
        "string and prints whether it is a\n",
        "palindrome."
      ],
      "metadata": {
        "id": "kzSMAydZ70yp"
      }
    },
    {
      "cell_type": "code",
      "source": [
        "# Answer 17\n",
        "\n",
        "a = str(input(\"Input a String: \"))\n",
        "b = a[::-1]\n",
        "if(a==b):\n",
        "    print(\"Palindrome\")\n",
        "else:\n",
        "    print(\"Not Palindrome\")\n"
      ],
      "metadata": {
        "colab": {
          "base_uri": "https://localhost:8080/"
        },
        "id": "swMmdxUsx3cf",
        "outputId": "6688086e-f732-4a5b-b1fd-debcb6a11274"
      },
      "execution_count": null,
      "outputs": [
        {
          "output_type": "stream",
          "name": "stdout",
          "text": [
            "Input a String: madam\n",
            "Palindrome\n"
          ]
        }
      ]
    }
  ]
}